{
 "cells": [
  {
   "cell_type": "markdown",
   "id": "6512ce7a",
   "metadata": {},
   "source": [
    "#### Data Cleaning"
   ]
  },
  {
   "cell_type": "code",
   "execution_count": 1,
   "id": "701f34b0",
   "metadata": {},
   "outputs": [],
   "source": [
    "import pandas as pd\n",
    "import numpy as np\n",
    "\n",
    "# Load the dataset\n",
    "df = pd.read_excel('Healthcare_dataset_only.xlsx')\n",
    "\n",
    "# Replace unknown values with NaN\n",
    "df['Ethnicity'].replace('Unknown', np.nan, inplace=True)\n",
    "df['Race'].replace('Other/Unknown', np.nan, inplace=True)\n",
    "df['Region'].replace('Other/Unknown', np.nan, inplace=True)\n",
    "df['Ntm_Speciality'].replace('unknown', np.nan, inplace=True)\n",
    "\n",
    "# Drop unwanted columns\n",
    "df.drop(['Risk_Segment_During_Rx',\n",
    "         'Tscore_Bucket_During_Rx',\n",
    "         'Change_Risk_Segment'], axis=1, inplace=True)\n",
    "\n",
    "# Replace Risk_Segment_Prior_Ntm values\n",
    "df['Risk_Segment_Prior_Ntm'] = df['Risk_Segment_Prior_Ntm'].replace({'VLR_LR': 1, 'HR_VHR': 0})\n",
    "\n",
    "# Replace Tscore_Bucket_Prior_Ntm values\n",
    "df['Tscore_Bucket_Prior_Ntm'] = df['Tscore_Bucket_Prior_Ntm'].replace({'>-2.5': 1, '<=-2.5': 0})\n",
    "\n",
    "# Replace 'Y' and 'N' with 1 and 0\n",
    "df = df.replace({'Y': 1, 'N': 0})\n",
    "\n",
    "# Replace age bucket values\n",
    "df['Age_Bucket'] = df['Age_Bucket'].replace({'>75': 0, '65-75': 1, '55-65': 2, '<55': 3})\n",
    "\n",
    "\n",
    "# Impute missing values with mode\n",
    "cols_to_impute = ['Ethnicity', 'Race', 'Region', 'Ntm_Speciality']\n",
    "for col in cols_to_impute:\n",
    "    df[col].fillna(df[col].mode()[0], inplace=True)\n",
    "\n",
    "\n",
    "df['Ntm_Speciality_Bucket'] = df['Ntm_Speciality_Bucket'].replace({'OB/GYN/Others/PCP/Unknown': 0, 'Endo/Onc/Uro': 1 ,'Rheum':2})\n",
    "\n",
    "df['Change_T_Score'] = df['Change_T_Score'].replace({'No change': 0, 'Unknown': 1 ,'Worsened':2, 'Improved':3})\n",
    "\n",
    "df['Region'] = df['Region'].replace({'West': 0, 'Midwest': 1 ,'South':2, 'Northeast':3})\n",
    "\n",
    "df['Race'] = df['Race'].replace({'Caucasian': 0, 'Asian': 1 ,'African American':2})\n",
    "\n",
    "gender = pd.get_dummies(df['Gender'],drop_first=True)\n",
    "adherent = pd.get_dummies(df['Adherent_Flag'],drop_first=True)\n",
    "persistent = pd.get_dummies(df['Persistency_Flag'],drop_first=True)\n",
    "ethnicity = pd.get_dummies(df['Ethnicity'],drop_first=True)\n",
    "specialist = pd.get_dummies(df['Ntm_Specialist_Flag'],drop_first=True)\n",
    "\n",
    "df.drop(['Gender','Adherent_Flag','Persistency_Flag','Ethnicity','Region','Ptid','Ntm_Speciality','Ntm_Specialist_Flag' ],axis=1,inplace=True)\n",
    "\n",
    "df = pd.concat([df,gender,adherent,persistent,ethnicity,specialist],axis=1)\n",
    "\n",
    "# Save cleaned dataset as CSV\n",
    "df.to_csv('cleaned_dataset_final.csv', index=False)"
   ]
  },
  {
   "cell_type": "code",
   "execution_count": null,
   "id": "d6caa2ea",
   "metadata": {},
   "outputs": [],
   "source": []
  }
 ],
 "metadata": {
  "kernelspec": {
   "display_name": "Python 3 (ipykernel)",
   "language": "python",
   "name": "python3"
  },
  "language_info": {
   "codemirror_mode": {
    "name": "ipython",
    "version": 3
   },
   "file_extension": ".py",
   "mimetype": "text/x-python",
   "name": "python",
   "nbconvert_exporter": "python",
   "pygments_lexer": "ipython3",
   "version": "3.9.13"
  }
 },
 "nbformat": 4,
 "nbformat_minor": 5
}
